{
 "cells": [
  {
   "cell_type": "markdown",
   "metadata": {},
   "source": [
    "# Clase 7- RNN y LSTM - GRU"
   ]
  },
  {
   "cell_type": "markdown",
   "metadata": {},
   "source": [
    "## Redes Neuronales Recurrentes (RNN)"
   ]
  },
  {
   "cell_type": "markdown",
   "metadata": {},
   "source": [
    "### Conceptos"
   ]
  },
  {
   "cell_type": "markdown",
   "metadata": {},
   "source": [
    "**1. ¿Qué es?**  \n",
    "Las Redes Neuronales Recurrentes (RNN) son un tipo de red neuronal diseñada específicamente para procesar datos secuenciales. A diferencia de las redes neuronales tradicionales, las RNN tienen conexiones cíclicas que les permiten mantener un estado interno y utilizar información pasada para influir en las predicciones actuales.\n",
    "\n",
    "**2. ¿Para qué sirve y cuáles son sus casos de uso frecuentes?**  \n",
    "Las RNN son ideales para tareas donde los datos tienen dependencias temporales o secuenciales. Algunos casos de uso frecuentes incluyen:\n",
    "- Procesamiento del Lenguaje Natural (NLP): Clasificación de texto, traducción automática, generación de texto.\n",
    "- Predicción de Series Temporales: Análisis financiero, previsión meteorológica.\n",
    "- Reconocimiento de Voz: Conversión de audio a texto.\n",
    "- Generación de Secuencias: Creación de música, generación de texto o patrones.\n",
    "\n",
    "**3. ¿Cómo funciona a nivel general?**  \n",
    "El funcionamiento de una RNN se basa en el concepto de mantener un \"estado oculto\" que se actualiza con cada nuevo dato de la secuencia:\n",
    "- Entrada Secuencial: Procesa los elementos de la secuencia uno por uno.\n",
    "- Estado Oculto: Almacena información de los pasos anteriores para capturar dependencias en la secuencia.\n",
    "- Salida: Genera una predicción en cada paso o al final de la secuencia, dependiendo de la tarea.\n",
    "\n",
    "Este diseño permite a las RNN manejar información pasada en el contexto de los datos actuales, pero puede enfrentar problemas como el desvanecimiento o la explosión del gradiente.\n",
    "\n",
    "**4. ¿Cómo funciona el algoritmo?**  \n",
    "El algoritmo de una RNN simple sigue estos pasos:\n",
    "\n",
    "- Inicialización del Estado Oculto:\n",
    "  $h_0$ se inicializa como un vector de ceros o valores aprendidos.\n",
    "  \n",
    "- Procesamiento Secuencial:\n",
    "  Para cada entrada $x_t$ en la secuencia, el estado oculto $h_t$ se actualiza usando:\n",
    "  $$\n",
    "  h_t = f(W_h h_{t-1} + W_x x_t + b_h)\n",
    "  $$\n",
    "  Donde:\n",
    "  - $W_h$ son los pesos recurrentes.\n",
    "  - $W_x$ son los pesos de la entrada.\n",
    "  - $b_h$ es el sesgo.\n",
    "  - $f$ es la función de activación (e.g., $\\tanh$ o sigmoide).\n",
    "\n",
    "- Salida:\n",
    "  La salida $y_t$ en cada paso se calcula como:\n",
    "  $$\n",
    "  y_t = g(W_y h_t + b_y)\n",
    "  $$\n",
    "  Donde $g$ es la función de activación de salida (e.g., sigmoide para tareas binarias).\n",
    "\n",
    "- Entrenamiento:\n",
    "  Se utiliza retropropagación a través del tiempo (BPTT) para ajustar los pesos, calculando gradientes a lo largo de toda la secuencia."
   ]
  },
  {
   "cell_type": "markdown",
   "metadata": {},
   "source": [
    "### Ejemplo: Clasificación de Sentimientos con una RNN desde 0"
   ]
  },
  {
   "cell_type": "markdown",
   "metadata": {},
   "source": [
    "#### Descripción del dataset"
   ]
  },
  {
   "cell_type": "markdown",
   "metadata": {},
   "source": [
    "Descripción del Dataset IMDB\n",
    "El conjunto de datos IMDB (Internet Movie Database) es un dataset ampliamente utilizado para tareas de procesamiento del lenguaje natural, como la clasificación de sentimientos. Contiene reseñas de películas etiquetadas como positivas o negativas.\n",
    "\n",
    "Contenido del Dataset\n",
    "Reseñas de Películas:\n",
    "Cada reseña es una secuencia de palabras preprocesadas y tokenizadas, donde cada palabra se representa como un entero que indica su posición en un vocabulario de las palabras más frecuentes.\n",
    "\n",
    "Etiquetas de Sentimiento:\n",
    "\n",
    "1: Indica que la reseña tiene un sentimiento positivo.\n",
    "0: Indica que la reseña tiene un sentimiento negativo.\n",
    "División de Datos:\n",
    "\n",
    "Entrenamiento: 25,000 reseñas etiquetadas.\n",
    "Prueba: 25,000 reseñas etiquetadas.\n",
    "Restricciones de Longitud:\n",
    "Puedes limitar la cantidad de palabras a las más frecuentes (por ejemplo, las 10,000 más comunes) y truncar o rellenar (padding) las secuencias para que todas tengan la misma longitud."
   ]
  },
  {
   "cell_type": "code",
   "execution_count": 1,
   "metadata": {},
   "outputs": [
    {
     "name": "stdout",
     "output_type": "stream",
     "text": [
      "Reseña tokenizada: [1, 14, 22, 16, 43, 530, 973, 1622, 1385, 65, 458, 4468, 66, 3941, 4, 173, 36, 256, 5, 25, 100, 43, 838, 112, 50, 670, 2, 9, 35, 480, 284, 5, 150, 4, 172, 112, 167, 2, 336, 385, 39, 4, 172, 4536, 1111, 17, 546, 38, 13, 447, 4, 192, 50, 16, 6, 147, 2025, 19, 14, 22, 4, 1920, 4613, 469, 4, 22, 71, 87, 12, 16, 43, 530, 38, 76, 15, 13, 1247, 4, 22, 17, 515, 17, 12, 16, 626, 18, 2, 5, 62, 386, 12, 8, 316, 8, 106, 5, 4, 2223, 5244, 16, 480, 66, 3785, 33, 4, 130, 12, 16, 38, 619, 5, 25, 124, 51, 36, 135, 48, 25, 1415, 33, 6, 22, 12, 215, 28, 77, 52, 5, 14, 407, 16, 82, 2, 8, 4, 107, 117, 5952, 15, 256, 4, 2, 7, 3766, 5, 723, 36, 71, 43, 530, 476, 26, 400, 317, 46, 7, 4, 2, 1029, 13, 104, 88, 4, 381, 15, 297, 98, 32, 2071, 56, 26, 141, 6, 194, 7486, 18, 4, 226, 22, 21, 134, 476, 26, 480, 5, 144, 30, 5535, 18, 51, 36, 28, 224, 92, 25, 104, 4, 226, 65, 16, 38, 1334, 88, 12, 16, 283, 5, 16, 4472, 113, 103, 32, 15, 16, 5345, 19, 178, 32]\n",
      "Etiqueta (sentimiento): 1\n"
     ]
    }
   ],
   "source": [
    "# Importar las bibliotecas necesarias\n",
    "import tensorflow as tf\n",
    "from tensorflow.keras.datasets import imdb\n",
    "from tensorflow.keras.preprocessing.sequence import pad_sequences\n",
    "from tensorflow.keras.models import Sequential\n",
    "from tensorflow.keras.layers import Embedding, SimpleRNN, Dense\n",
    "\n",
    "# Definir los parámetros del conjunto de datos\n",
    "max_features = 10000  # Número máximo de palabras en el vocabulario\n",
    "maxlen = 500  # Longitud máxima de las secuencias (padding)\n",
    "\n",
    "# Cargar y explorar el dataset\n",
    "(X_train, y_train), (X_test, y_test) = imdb.load_data(num_words=10000)\n",
    "\n",
    "# Mostrar una reseña en formato tokenizado y su etiqueta\n",
    "print(\"Reseña tokenizada:\", X_train[0])\n",
    "print(\"Etiqueta (sentimiento):\", y_train[0])"
   ]
  },
  {
   "cell_type": "markdown",
   "metadata": {},
   "source": [
    "#### Características del Dataset"
   ]
  },
  {
   "cell_type": "markdown",
   "metadata": {},
   "source": [
    "* Preprocesamiento: Las palabras ya están tokenizadas y convertidas en índices de un vocabulario.\n",
    "* Vocabulario: Puedes limitar el tamaño del vocabulario con num_words, que selecciona las palabras más frecuentes.\n",
    "* Longitud de las Secuencias: Las reseñas tienen longitudes variables; es común usar pad_sequences para normalizarlas.\n",
    "* Link a la Documentación Oficial --> Puedes consultar más detalles sobre este dataset en la documentación oficial de TensorFlow: \n",
    "\n",
    "    * https://www.tensorflow.org/datasets/catalog/imdb_reviews?hl=es-419\n",
    "    * https://ai.stanford.edu/%7Eamaas/data/sentiment/\n",
    "\n",
    "**Resumen**\n",
    "\n",
    "El dataset IMDB es un recurso excelente para aprender clasificación de texto, ya que:\n",
    "\n",
    "* Es relativamente pequeño, permitiendo entrenar modelos en laptops personales.\n",
    "* Incluye datos preprocesados, lo que facilita su uso sin necesidad de procesamiento inicial.\n",
    "* Representa un caso práctico realista de análisis de sentimientos."
   ]
  },
  {
   "cell_type": "markdown",
   "metadata": {},
   "source": [
    "#### ¿Cómo Se Tokeniza el Dataset?"
   ]
  },
  {
   "cell_type": "markdown",
   "metadata": {},
   "source": [
    "##### El proceso de tokenización "
   ]
  },
  {
   "cell_type": "markdown",
   "metadata": {},
   "source": [
    "**El proceso de tokenización en el dataset IMDB preprocesado incluye:**\n",
    "\n",
    "* Construcción del Vocabulario: Se identifican las palabras más frecuentes del corpus.\n",
    "* Asignación de Índices: Cada palabra del vocabulario se asigna a un número entero basado en su frecuencia (las palabras más comunes tienen índices más bajos).\n",
    "* Conversión a Secuencias: Las reseñas se convierten en secuencias de números enteros donde cada número representa una palabra en el vocabulario.\n",
    "\n",
    "**Proceso de Tokenización (Paso a Paso)**\n",
    "\n",
    "* Limpieza del Texto: Se eliminan caracteres especiales y se convierten todas las palabras a minúsculas.\n",
    "* División en Palabras (Tokenización): Se dividen las frases en palabras individuales.\n",
    "* Mapeo a Índices: Cada palabra se reemplaza con su índice correspondiente en el vocabulario.\n",
    "* Padding: Las secuencias más cortas se rellenan con ceros para tener una longitud uniforme."
   ]
  },
  {
   "cell_type": "markdown",
   "metadata": {},
   "source": [
    "##### Reconstruir una Reseña Original Tokenizada\n",
    "\n",
    "El dataset incluye un diccionario invertido (index_word) que puedes usar para convertir índices de nuevo a palabras."
   ]
  },
  {
   "cell_type": "code",
   "execution_count": 2,
   "metadata": {},
   "outputs": [
    {
     "name": "stdout",
     "output_type": "stream",
     "text": [
      "Reseña tokenizada: [1, 14, 22, 16, 43, 530, 973, 1622, 1385, 65, 458, 4468, 66, 3941, 4, 173, 36, 256, 5, 25, 100, 43, 838, 112, 50, 670, 2, 9, 35, 480, 284, 5, 150, 4, 172, 112, 167, 2, 336, 385, 39, 4, 172, 4536, 1111, 17, 546, 38, 13, 447, 4, 192, 50, 16, 6, 147, 2025, 19, 14, 22, 4, 1920, 4613, 469, 4, 22, 71, 87, 12, 16, 43, 530, 38, 76, 15, 13, 1247, 4, 22, 17, 515, 17, 12, 16, 626, 18, 2, 5, 62, 386, 12, 8, 316, 8, 106, 5, 4, 2223, 5244, 16, 480, 66, 3785, 33, 4, 130, 12, 16, 38, 619, 5, 25, 124, 51, 36, 135, 48, 25, 1415, 33, 6, 22, 12, 215, 28, 77, 52, 5, 14, 407, 16, 82, 2, 8, 4, 107, 117, 5952, 15, 256, 4, 2, 7, 3766, 5, 723, 36, 71, 43, 530, 476, 26, 400, 317, 46, 7, 4, 2, 1029, 13, 104, 88, 4, 381, 15, 297, 98, 32, 2071, 56, 26, 141, 6, 194, 7486, 18, 4, 226, 22, 21, 134, 476, 26, 480, 5, 144, 30, 5535, 18, 51, 36, 28, 224, 92, 25, 104, 4, 226, 65, 16, 38, 1334, 88, 12, 16, 283, 5, 16, 4472, 113, 103, 32, 15, 16, 5345, 19, 178, 32]\n",
      "Reseña original reconstruida: ? this film was just brilliant casting location scenery story direction everyone's really suited the part they played and you could just imagine being there robert ? is an amazing actor and now the same being director ? father came from the same scottish island as myself so i loved the fact there was a real connection with this film the witty remarks throughout the film were great it was just brilliant so much that i bought the film as soon as it was released for ? and would recommend it to everyone to watch and the fly fishing was amazing really cried at the end it was so sad and you know what they say if you cry at a film it must have been good and this definitely was also ? to the two little boy's that played the ? of norman and paul they were just brilliant children are often left out of the ? list i think because the stars that play them all grown up are such a big profile for the whole film but these children are amazing and should be praised for what they have done don't you think the whole story was so lovely because it was true and was someone's life after all that was shared with us all\n"
     ]
    }
   ],
   "source": [
    "# Cargar el conjunto de datos IMDB\n",
    "max_features = 10000\n",
    "(X_train, y_train), _ = imdb.load_data(num_words=max_features)\n",
    "\n",
    "# Obtener el índice de palabras\n",
    "word_index = imdb.get_word_index()\n",
    "reverse_word_index = {value: key for key, value in word_index.items()}\n",
    "\n",
    "# Seleccionar una reseña tokenizada\n",
    "tokenized_review = X_train[0]\n",
    "\n",
    "# Reconstruir la reseña original\n",
    "decoded_review = \" \".join([reverse_word_index.get(i - 3, \"?\") for i in tokenized_review])\n",
    "\n",
    "# Mostrar resultados\n",
    "print(\"Reseña tokenizada:\", tokenized_review)\n",
    "print(\"Reseña original reconstruida:\", decoded_review)\n"
   ]
  },
  {
   "cell_type": "code",
   "execution_count": 3,
   "metadata": {},
   "outputs": [
    {
     "name": "stdout",
     "output_type": "stream",
     "text": [
      "Reseña tokenizada: [1, 11, 1043, 541, 47, 8, 30, 2, 17, 86, 967, 20, 231, 60, 48, 4, 875, 551, 9, 44, 17, 2671, 17, 12, 214, 11, 4, 182, 7, 97, 264, 21, 22, 1359, 451, 144, 407, 169, 14, 31, 6, 3133, 418, 7, 157, 448, 17, 12, 9, 23, 6, 283, 113, 823, 5914, 10, 10, 12, 2013, 19, 2, 8906, 228, 467, 4, 898, 5, 2, 905, 2692, 7, 6, 6241, 2647, 5576, 1841, 5398, 543, 2620, 956, 4, 1310, 7, 4, 22, 60, 159, 4, 898, 130, 4, 503, 1992, 1381, 7, 6138, 2370, 127, 6, 897, 292, 208, 39, 4, 380, 10, 10, 82, 788, 39, 4, 380, 670, 4215, 5, 1091, 2613, 26, 1249, 1447, 156, 36, 81, 6, 87, 292, 7, 2265, 879, 3649, 3999, 267, 18, 4, 375, 3974, 126, 67, 6, 5288, 2, 11, 4, 5318, 1153, 609, 57, 50, 26, 107, 2572, 7, 2269, 11, 14, 182, 31, 18, 4, 1026, 5, 31, 18, 4, 338, 560, 2613, 656, 6, 2, 7, 5212, 496, 4, 6939, 10, 10, 199, 26, 5895, 8, 1665, 4, 2524, 7, 6, 3886, 223, 800, 57, 6066, 5, 1200, 57, 4684, 496, 10, 10, 4215, 2, 44, 102, 5, 536, 7, 3266, 18, 1818, 11, 2713, 560, 377, 7106, 11, 2, 7, 4, 2, 2, 35, 2954, 561, 88, 4215, 309, 16, 11, 4, 22, 17, 6, 117, 430, 3488, 2, 7041, 13, 188, 25, 2, 18, 6, 1249, 1447, 455, 2613, 716, 4215, 10, 10, 308, 8899, 9, 31, 7, 4, 485, 5928, 23, 4, 420, 5369, 15, 32, 689, 223, 1066, 71, 3146, 56, 324, 11, 4, 419, 5, 31, 69, 27, 3681, 605, 92, 84, 187, 133, 5379, 3594, 1643, 723, 1342, 36, 80, 4487, 9, 4, 2, 2, 10, 10, 103, 4, 1496, 4, 2179, 1974, 15, 50, 16, 57, 194, 1922, 2277, 11, 4, 1513, 40, 68, 1172, 2, 579, 98, 38, 11, 4, 130, 12, 16, 371, 6, 379, 4271, 823, 4, 888, 9, 138, 122, 36, 81, 12, 5, 14, 9, 142, 4, 333, 320, 7, 4, 22, 5644, 11, 1137, 12, 304, 35, 534, 5, 6, 320, 83, 4, 20, 159, 4, 5928, 1277, 56, 19, 4, 2179, 5, 895, 4, 2, 10, 10, 45, 134, 477, 139, 15, 1671, 4, 91, 5380, 5, 4, 91, 602, 17, 4, 1013, 26, 579, 2041, 93, 1942, 2497, 5, 317, 6, 581, 2413, 4, 779, 687, 56, 8, 5, 587, 4, 588, 26, 1894, 366, 4, 130, 12, 166, 57, 281, 4215, 716, 8899, 443, 6726, 16, 6, 55, 327, 5299, 13, 197, 38, 208, 56, 366, 4, 58, 13, 605, 27, 3681, 4, 881, 34, 745, 3228, 9, 2, 5, 8, 4, 213, 5, 38, 9, 27, 458, 10, 10, 2, 56, 530, 2823, 7, 107, 2, 185, 349, 23, 6, 823, 5914, 15, 93, 57, 281, 95, 42, 150, 18, 6, 2691, 2, 2860]\n",
      "Reseña original reconstruida: ? in cold blood has to be ? as first rate movie making even if the subject matter is about as grim as it gets in the world of make believe but film noir fans should definitely find this one a gripping piece of work based as it is on a true life crime spree br br it opens with ? jones' music under the credits and ? dramatic views of a highway bus heading toward kansas city effectively setting the mood of the film even before the credits end the b w photography of conrad hall does a superb job right from the start br br also clear from the start robert blake and scott wilson are natural born actors they do a great job of portraying free spirited buddies looking for the next thrill ever see a millionaire ? in the electric hair hell no there are two kinds of rules in this world one for the rich and one for the poor says wilson taking a ? of alcohol behind the wheel br br both are destined to cross the path of a farm family showing no mercy and leaving no witnesses behind br br blake ? about movies and thinking of hunting for gold in mexico says remember bogart in ? of the ? ? an ironic moment because blake himself was in the film as a little boy selling ? tickets i got you ? for a natural born killer wilson tells blake br br john forsythe is one of the lead detectives on the case discovering that all four family members were tied up shot in the head and one had his throat cut don't people around here lock doors asks paul stewart they will tonight is the ? ? br br after the murders the killers discover that there was no big fat safe in the wall like their prison ? told them so in the end it was truly a stupid senseless crime the question is why did they do it and this is something the second half of the film explores in depth it takes an hour and a half into the movie before the detectives catch up with the killers and begin the ? br br it's these final scenes that carry the most conviction and the most interest as the boys are told they've made numerous mistakes and left a living witness the actual events up to and including the murder are saved until the end it makes no sense blake tells forsythe mr cutter was a very nice gentleman i thought so right up until the time i cut his throat the screenplay by richard brooks is ? and to the point and so is his direction br br ? up brilliant depiction of two ? young men on a crime spree that made no sense then or now for a mere ? chilling\n"
     ]
    }
   ],
   "source": [
    "# Seleccionar una reseña tokenizada\n",
    "tokenized_review = X_train[400]\n",
    "\n",
    "# Reconstruir la reseña original\n",
    "decoded_review = \" \".join([reverse_word_index.get(i - 3, \"?\") for i in tokenized_review])\n",
    "\n",
    "# Mostrar resultados\n",
    "print(\"Reseña tokenizada:\", tokenized_review)\n",
    "print(\"Reseña original reconstruida:\", decoded_review)"
   ]
  },
  {
   "cell_type": "markdown",
   "metadata": {
    "vscode": {
     "languageId": "bat"
    }
   },
   "source": [
    "#### Ejecutamos el modelo"
   ]
  },
  {
   "cell_type": "code",
   "execution_count": 19,
   "metadata": {},
   "outputs": [
    {
     "name": "stdout",
     "output_type": "stream",
     "text": [
      "X_train shape: (25000, 500)\n",
      "X_test shape: (25000, 500)\n"
     ]
    }
   ],
   "source": [
    "# Cargar el conjunto de datos IMDB\n",
    "(X_train, y_train), (X_test, y_test) = imdb.load_data(num_words=max_features)\n",
    "\n",
    "# Padding para igualar la longitud de las secuencias\n",
    "X_train = pad_sequences(X_train, maxlen=maxlen)\n",
    "X_test = pad_sequences(X_test, maxlen=maxlen)\n",
    "\n",
    "# Mostrar las dimensiones de los datos\n",
    "print(f\"X_train shape: {X_train.shape}\")\n",
    "print(f\"X_test shape: {X_test.shape}\")"
   ]
  },
  {
   "cell_type": "code",
   "execution_count": null,
   "metadata": {},
   "outputs": [
    {
     "data": {
      "text/html": [
       "<pre style=\"white-space:pre;overflow-x:auto;line-height:normal;font-family:Menlo,'DejaVu Sans Mono',consolas,'Courier New',monospace\"><span style=\"font-weight: bold\">Model: \"sequential_8\"</span>\n",
       "</pre>\n"
      ],
      "text/plain": [
       "\u001b[1mModel: \"sequential_8\"\u001b[0m\n"
      ]
     },
     "metadata": {},
     "output_type": "display_data"
    },
    {
     "data": {
      "text/html": [
       "<pre style=\"white-space:pre;overflow-x:auto;line-height:normal;font-family:Menlo,'DejaVu Sans Mono',consolas,'Courier New',monospace\">┏━━━━━━━━━━━━━━━━━━━━━━━━━━━━━━━━━┳━━━━━━━━━━━━━━━━━━━━━━━━┳━━━━━━━━━━━━━━━┓\n",
       "┃<span style=\"font-weight: bold\"> Layer (type)                    </span>┃<span style=\"font-weight: bold\"> Output Shape           </span>┃<span style=\"font-weight: bold\">       Param # </span>┃\n",
       "┡━━━━━━━━━━━━━━━━━━━━━━━━━━━━━━━━━╇━━━━━━━━━━━━━━━━━━━━━━━━╇━━━━━━━━━━━━━━━┩\n",
       "│ embedding_8 (<span style=\"color: #0087ff; text-decoration-color: #0087ff\">Embedding</span>)         │ ?                      │   <span style=\"color: #00af00; text-decoration-color: #00af00\">0</span> (unbuilt) │\n",
       "├─────────────────────────────────┼────────────────────────┼───────────────┤\n",
       "│ simple_rnn_14 (<span style=\"color: #0087ff; text-decoration-color: #0087ff\">SimpleRNN</span>)       │ ?                      │   <span style=\"color: #00af00; text-decoration-color: #00af00\">0</span> (unbuilt) │\n",
       "├─────────────────────────────────┼────────────────────────┼───────────────┤\n",
       "│ dense_8 (<span style=\"color: #0087ff; text-decoration-color: #0087ff\">Dense</span>)                 │ ?                      │   <span style=\"color: #00af00; text-decoration-color: #00af00\">0</span> (unbuilt) │\n",
       "└─────────────────────────────────┴────────────────────────┴───────────────┘\n",
       "</pre>\n"
      ],
      "text/plain": [
       "┏━━━━━━━━━━━━━━━━━━━━━━━━━━━━━━━━━┳━━━━━━━━━━━━━━━━━━━━━━━━┳━━━━━━━━━━━━━━━┓\n",
       "┃\u001b[1m \u001b[0m\u001b[1mLayer (type)                   \u001b[0m\u001b[1m \u001b[0m┃\u001b[1m \u001b[0m\u001b[1mOutput Shape          \u001b[0m\u001b[1m \u001b[0m┃\u001b[1m \u001b[0m\u001b[1m      Param #\u001b[0m\u001b[1m \u001b[0m┃\n",
       "┡━━━━━━━━━━━━━━━━━━━━━━━━━━━━━━━━━╇━━━━━━━━━━━━━━━━━━━━━━━━╇━━━━━━━━━━━━━━━┩\n",
       "│ embedding_8 (\u001b[38;5;33mEmbedding\u001b[0m)         │ ?                      │   \u001b[38;5;34m0\u001b[0m (unbuilt) │\n",
       "├─────────────────────────────────┼────────────────────────┼───────────────┤\n",
       "│ simple_rnn_14 (\u001b[38;5;33mSimpleRNN\u001b[0m)       │ ?                      │   \u001b[38;5;34m0\u001b[0m (unbuilt) │\n",
       "├─────────────────────────────────┼────────────────────────┼───────────────┤\n",
       "│ dense_8 (\u001b[38;5;33mDense\u001b[0m)                 │ ?                      │   \u001b[38;5;34m0\u001b[0m (unbuilt) │\n",
       "└─────────────────────────────────┴────────────────────────┴───────────────┘\n"
      ]
     },
     "metadata": {},
     "output_type": "display_data"
    },
    {
     "data": {
      "text/html": [
       "<pre style=\"white-space:pre;overflow-x:auto;line-height:normal;font-family:Menlo,'DejaVu Sans Mono',consolas,'Courier New',monospace\"><span style=\"font-weight: bold\"> Total params: </span><span style=\"color: #00af00; text-decoration-color: #00af00\">0</span> (0.00 B)\n",
       "</pre>\n"
      ],
      "text/plain": [
       "\u001b[1m Total params: \u001b[0m\u001b[38;5;34m0\u001b[0m (0.00 B)\n"
      ]
     },
     "metadata": {},
     "output_type": "display_data"
    },
    {
     "data": {
      "text/html": [
       "<pre style=\"white-space:pre;overflow-x:auto;line-height:normal;font-family:Menlo,'DejaVu Sans Mono',consolas,'Courier New',monospace\"><span style=\"font-weight: bold\"> Trainable params: </span><span style=\"color: #00af00; text-decoration-color: #00af00\">0</span> (0.00 B)\n",
       "</pre>\n"
      ],
      "text/plain": [
       "\u001b[1m Trainable params: \u001b[0m\u001b[38;5;34m0\u001b[0m (0.00 B)\n"
      ]
     },
     "metadata": {},
     "output_type": "display_data"
    },
    {
     "data": {
      "text/html": [
       "<pre style=\"white-space:pre;overflow-x:auto;line-height:normal;font-family:Menlo,'DejaVu Sans Mono',consolas,'Courier New',monospace\"><span style=\"font-weight: bold\"> Non-trainable params: </span><span style=\"color: #00af00; text-decoration-color: #00af00\">0</span> (0.00 B)\n",
       "</pre>\n"
      ],
      "text/plain": [
       "\u001b[1m Non-trainable params: \u001b[0m\u001b[38;5;34m0\u001b[0m (0.00 B)\n"
      ]
     },
     "metadata": {},
     "output_type": "display_data"
    }
   ],
   "source": [
    "# Crear el modelo RNN\n",
    "model = Sequential([\n",
    "    Embedding(input_dim=max_features,output_dim = 32, input_length=maxlen),  # Capa de embedding\n",
    "    SimpleRNN(32),  # Capa recurrente\n",
    "    Dense(1, activation='sigmoid'),  # Capa de salida\n",
    "])\n",
    "\n",
    "# Compilar el modelo\n",
    "model.compile(optimizer='adam', loss='binary_crossentropy', metrics=['accuracy'])\n",
    "\n",
    "# Mostrar un resumen del modelo\n",
    "model.summary()"
   ]
  },
  {
   "cell_type": "markdown",
   "metadata": {},
   "source": [
    "**¿Para qué se utiliza la capa de Embedding?**\n",
    "\n",
    "La capa de embedding en redes neuronales se utiliza para transformar datos categóricos (como palabras o tokens) en vectores densos de características en un espacio continuo de menor dimensión. Esta representación es clave para tareas de Procesamiento del Lenguaje Natural (NLP) y otras que involucran datos categóricos.\n",
    "\n",
    "**Cómo funciona**\n",
    "\n",
    "La capa de embedding mapea índices enteros (por ejemplo, palabras representadas como números) a vectores densos de números reales. Esto significa que palabras similares en términos de significado o uso tienden a estar representadas por vectores cercanos en este espac\n",
    "\n",
    "**Funcionalidad de la Capa**\n",
    "\n",
    "1. **Dimensionalidad Reducida:**\n",
    "    Convierte una palabra o token, representado por un entero, en un vector de dimensión fija.\n",
    "    Por ejemplo: Si una palabra está representada como índice 42, la capa de embedding podría mapearla a un vector como:\n",
    "    $[0.1, 0.3, -0.4, 0.8]$.\n",
    "\n",
    "2. **Aprendizaje del Espacio de Características:**\n",
    "    Durante el entrenamiento, los vectores de embedding se ajustan para capturar relaciones semánticas entre palabras. Palabras con significados similares terminan con vectores similares.\n",
    "\n",
    "3. **Representaciones Densas:**\n",
    "    Reemplaza las representaciones esparsas (e.g., codificación one-hot) con representaciones densas, que son computacionalmente más eficientes y útiles para capturar relaciones complejas"
   ]
  },
  {
   "cell_type": "code",
   "execution_count": 26,
   "metadata": {},
   "outputs": [
    {
     "name": "stdout",
     "output_type": "stream",
     "text": [
      "Epoch 1/5\n",
      "\u001b[1m313/313\u001b[0m \u001b[32m━━━━━━━━━━━━━━━━━━━━\u001b[0m\u001b[37m\u001b[0m \u001b[1m20s\u001b[0m 61ms/step - accuracy: 0.5690 - loss: 0.6661 - val_accuracy: 0.7508 - val_loss: 0.5135\n",
      "Epoch 2/5\n",
      "\u001b[1m313/313\u001b[0m \u001b[32m━━━━━━━━━━━━━━━━━━━━\u001b[0m\u001b[37m\u001b[0m \u001b[1m19s\u001b[0m 62ms/step - accuracy: 0.8255 - loss: 0.3944 - val_accuracy: 0.6294 - val_loss: 0.6412\n",
      "Epoch 3/5\n",
      "\u001b[1m313/313\u001b[0m \u001b[32m━━━━━━━━━━━━━━━━━━━━\u001b[0m\u001b[37m\u001b[0m \u001b[1m19s\u001b[0m 62ms/step - accuracy: 0.8180 - loss: 0.4150 - val_accuracy: 0.7818 - val_loss: 0.5124\n",
      "Epoch 4/5\n",
      "\u001b[1m313/313\u001b[0m \u001b[32m━━━━━━━━━━━━━━━━━━━━\u001b[0m\u001b[37m\u001b[0m \u001b[1m19s\u001b[0m 62ms/step - accuracy: 0.9588 - loss: 0.1288 - val_accuracy: 0.7260 - val_loss: 0.7290\n",
      "Epoch 5/5\n",
      "\u001b[1m313/313\u001b[0m \u001b[32m━━━━━━━━━━━━━━━━━━━━\u001b[0m\u001b[37m\u001b[0m \u001b[1m20s\u001b[0m 64ms/step - accuracy: 0.9925 - loss: 0.0375 - val_accuracy: 0.7922 - val_loss: 0.6645\n"
     ]
    }
   ],
   "source": [
    "# Entrenar el modelo\n",
    "history = model.fit(\n",
    "    X_train, y_train,\n",
    "    epochs=5,\n",
    "    batch_size=64,\n",
    "    validation_split=0.2  # Usar el 20% de los datos de entrenamiento para validación\n",
    ")"
   ]
  },
  {
   "cell_type": "code",
   "execution_count": 27,
   "metadata": {},
   "outputs": [
    {
     "name": "stdout",
     "output_type": "stream",
     "text": [
      "\u001b[1m782/782\u001b[0m \u001b[32m━━━━━━━━━━━━━━━━━━━━\u001b[0m\u001b[37m\u001b[0m \u001b[1m9s\u001b[0m 11ms/step - accuracy: 0.7910 - loss: 0.6640\n",
      "Precisión en el conjunto de prueba: 0.7889\n"
     ]
    }
   ],
   "source": [
    "# Evaluar el modelo en el conjunto de prueba\n",
    "test_loss, test_acc = model.evaluate(X_test, y_test)\n",
    "print(f\"Precisión en el conjunto de prueba: {test_acc:.4f}\")"
   ]
  },
  {
   "cell_type": "markdown",
   "metadata": {},
   "source": [
    "##### Solucionando el over-fitting"
   ]
  },
  {
   "cell_type": "code",
   "execution_count": null,
   "metadata": {},
   "outputs": [],
   "source": [
    "from tensorflow.keras.optimizers import Adam\n",
    "# Crear el modelo RNN\n",
    "model = Sequential([\n",
    "    Embedding(input_dim=max_features,output_dim = 16, input_length=maxlen),  # Capa de embedding\n",
    "    SimpleRNN(16),  # Capa recurrente\n",
    "    Dense(1, activation='sigmoid'),  # Capa de salida\n",
    "])\n",
    "\n",
    "# Compilar el modelo\n",
    "model.compile(optimizer='adam', loss='binary_crossentropy', metrics=['accuracy'])\n",
    "\n",
    "# Entrenar el modelo\n",
    "history = model.fit(\n",
    "    X_train, y_train,\n",
    "    epochs=5,\n",
    "    batch_size=64,\n",
    "    validation_split=0.2  # Usar el 20% de los datos de entrenamiento para validación\n",
    ")"
   ]
  },
  {
   "cell_type": "code",
   "execution_count": 31,
   "metadata": {},
   "outputs": [
    {
     "name": "stdout",
     "output_type": "stream",
     "text": [
      "Epoch 1/5\n",
      "\u001b[1m274/274\u001b[0m \u001b[32m━━━━━━━━━━━━━━━━━━━━\u001b[0m\u001b[37m\u001b[0m \u001b[1m10s\u001b[0m 35ms/step - accuracy: 0.5391 - loss: 0.7027 - val_accuracy: 0.5835 - val_loss: 0.6931\n",
      "Epoch 2/5\n",
      "\u001b[1m274/274\u001b[0m \u001b[32m━━━━━━━━━━━━━━━━━━━━\u001b[0m\u001b[37m\u001b[0m \u001b[1m9s\u001b[0m 34ms/step - accuracy: 0.6329 - loss: 0.6418 - val_accuracy: 0.5923 - val_loss: 0.6803\n",
      "Epoch 3/5\n",
      "\u001b[1m274/274\u001b[0m \u001b[32m━━━━━━━━━━━━━━━━━━━━\u001b[0m\u001b[37m\u001b[0m \u001b[1m9s\u001b[0m 35ms/step - accuracy: 0.6488 - loss: 0.6286 - val_accuracy: 0.6007 - val_loss: 0.6815\n",
      "Epoch 4/5\n",
      "\u001b[1m274/274\u001b[0m \u001b[32m━━━━━━━━━━━━━━━━━━━━\u001b[0m\u001b[37m\u001b[0m \u001b[1m10s\u001b[0m 35ms/step - accuracy: 0.6618 - loss: 0.5995 - val_accuracy: 0.5956 - val_loss: 0.6713\n",
      "Epoch 5/5\n",
      "\u001b[1m274/274\u001b[0m \u001b[32m━━━━━━━━━━━━━━━━━━━━\u001b[0m\u001b[37m\u001b[0m \u001b[1m10s\u001b[0m 35ms/step - accuracy: 0.6645 - loss: 0.6031 - val_accuracy: 0.5832 - val_loss: 0.6958\n"
     ]
    }
   ],
   "source": [
    "from tensorflow.keras.optimizers import Adam\n",
    "# Crear el modelo RNN\n",
    "model = Sequential([\n",
    "    Embedding(input_dim=max_features,output_dim = 16, input_length=maxlen),  # Capa de embedding\n",
    "    SimpleRNN(16),  # Capa recurrente\n",
    "    Dense(1, activation='sigmoid'),  # Capa de salida\n",
    "])\n",
    "\n",
    "# Compilar el modelo\n",
    "model.compile(optimizer=Adam(learning_rate=0.1), loss='binary_crossentropy', metrics=['accuracy'])\n",
    "\n",
    "# Entrenar el modelo\n",
    "history = model.fit(\n",
    "    X_train, y_train,\n",
    "    epochs=5,\n",
    "    batch_size=64,\n",
    "    validation_split=0.3  # Usar el 30% de los datos de entrenamiento para validación\n",
    ")"
   ]
  },
  {
   "cell_type": "code",
   "execution_count": 32,
   "metadata": {},
   "outputs": [
    {
     "name": "stdout",
     "output_type": "stream",
     "text": [
      "Epoch 1/5\n",
      "\u001b[1m274/274\u001b[0m \u001b[32m━━━━━━━━━━━━━━━━━━━━\u001b[0m\u001b[37m\u001b[0m \u001b[1m10s\u001b[0m 33ms/step - accuracy: 0.5443 - loss: 0.6834 - val_accuracy: 0.7532 - val_loss: 0.5117\n",
      "Epoch 2/5\n",
      "\u001b[1m274/274\u001b[0m \u001b[32m━━━━━━━━━━━━━━━━━━━━\u001b[0m\u001b[37m\u001b[0m \u001b[1m9s\u001b[0m 33ms/step - accuracy: 0.8237 - loss: 0.4047 - val_accuracy: 0.8132 - val_loss: 0.4215\n",
      "Epoch 3/5\n",
      "\u001b[1m274/274\u001b[0m \u001b[32m━━━━━━━━━━━━━━━━━━━━\u001b[0m\u001b[37m\u001b[0m \u001b[1m9s\u001b[0m 32ms/step - accuracy: 0.8904 - loss: 0.2842 - val_accuracy: 0.8540 - val_loss: 0.3680\n",
      "Epoch 4/5\n",
      "\u001b[1m274/274\u001b[0m \u001b[32m━━━━━━━━━━━━━━━━━━━━\u001b[0m\u001b[37m\u001b[0m \u001b[1m9s\u001b[0m 33ms/step - accuracy: 0.9216 - loss: 0.2140 - val_accuracy: 0.8505 - val_loss: 0.3761\n",
      "Epoch 5/5\n",
      "\u001b[1m274/274\u001b[0m \u001b[32m━━━━━━━━━━━━━━━━━━━━\u001b[0m\u001b[37m\u001b[0m \u001b[1m9s\u001b[0m 33ms/step - accuracy: 0.9457 - loss: 0.1557 - val_accuracy: 0.8539 - val_loss: 0.3864\n"
     ]
    }
   ],
   "source": [
    "# Crear el modelo RNN\n",
    "model = Sequential([\n",
    "    Embedding(input_dim=max_features,output_dim = 16, input_length=maxlen),  # Capa de embedding\n",
    "    SimpleRNN(16),  # Capa recurrente\n",
    "    Dense(1, activation='sigmoid'),  # Capa de salida\n",
    "])\n",
    "\n",
    "# Compilar el modelo\n",
    "model.compile(optimizer='adam', loss='binary_crossentropy', metrics=['accuracy'])\n",
    "\n",
    "# Entrenar el modelo\n",
    "history = model.fit(\n",
    "    X_train, y_train,\n",
    "    epochs=5,\n",
    "    batch_size=64,\n",
    "    validation_split=0.3  # Usar el 20% de los datos de entrenamiento para validación\n",
    ")"
   ]
  },
  {
   "cell_type": "code",
   "execution_count": 33,
   "metadata": {},
   "outputs": [
    {
     "name": "stdout",
     "output_type": "stream",
     "text": [
      "\u001b[1m782/782\u001b[0m \u001b[32m━━━━━━━━━━━━━━━━━━━━\u001b[0m\u001b[37m\u001b[0m \u001b[1m4s\u001b[0m 5ms/step - accuracy: 0.8448 - loss: 0.4063\n",
      "Precisión en el conjunto de prueba: 0.8456\n"
     ]
    }
   ],
   "source": [
    "# Evaluar el modelo en el conjunto de prueba\n",
    "test_loss, test_acc = model.evaluate(X_test, y_test)\n",
    "print(f\"Precisión en el conjunto de prueba: {test_acc:.4f}\")"
   ]
  },
  {
   "cell_type": "markdown",
   "metadata": {},
   "source": [
    "## LSTM (Long Short-Term Memory)"
   ]
  },
  {
   "cell_type": "markdown",
   "metadata": {},
   "source": [
    "### Conceptos"
   ]
  },
  {
   "cell_type": "markdown",
   "metadata": {},
   "source": [
    "**1. ¿Qué es?**  \n",
    "LSTM es una arquitectura avanzada de RNN diseñada para abordar el problema del desvanecimiento del gradiente, introduciendo una estructura de \"celdas de memoria\" que puede retener información relevante durante períodos largos de tiempo.\n",
    "\n",
    "**2. ¿Para qué sirve y cuáles son sus casos de uso frecuentes?**  \n",
    "LSTM se utiliza en tareas donde las dependencias a largo plazo son importantes. Casos de uso frecuentes incluyen:\n",
    "- Traducción automática.\n",
    "- Modelado de lenguaje.\n",
    "- Predicción de eventos en series temporales largas.\n",
    "\n",
    "**3. ¿Cómo funciona a nivel general?**  \n",
    "Un LSTM utiliza puertas para controlar qué información se mantiene, se actualiza o se olvida en cada paso de la secuencia:\n",
    "- Puerta de Olvido: Decide qué información eliminar.\n",
    "- Puerta de Entrada: Determina qué nueva información agregar.\n",
    "- Estado de la Celda: Actualiza la memoria de la celda con información relevante.\n",
    "- Puerta de Salida: Decide qué información emitir como salida.\n",
    "\n",
    "**4. ¿Cómo funciona el algoritmo?**  \n",
    "Cada celda LSTM sigue estos pasos:\n",
    "\n",
    "- Puerta de Olvido:\n",
    "  $$\n",
    "  f_t = \\sigma(W_f [h_{t-1}, x_t] + b_f)\n",
    "  $$\n",
    "\n",
    "- Puerta de Entrada:\n",
    "  $$\n",
    "  i_t = \\sigma(W_i [h_{t-1}, x_t] + b_i)\n",
    "  $$\n",
    "  $$\n",
    "  \\tilde{C}_t = \\tanh(W_C [h_{t-1}, x_t] + b_C)\n",
    "  $$\n",
    "\n",
    "- Actualización del Estado de la Celda:\n",
    "  $$\n",
    "  C_t = f_t \\odot C_{t-1} + i_t \\odot \\tilde{C}_t\n",
    "  $$\n",
    "\n",
    "- Puerta de Salida:\n",
    "  $$\n",
    "  o_t = \\sigma(W_o [h_{t-1}, x_t] + b_o)\n",
    "  $$\n",
    "  $$\n",
    "  h_t = o_t \\odot \\tanh(C_t)\n",
    "  $$"
   ]
  },
  {
   "cell_type": "markdown",
   "metadata": {},
   "source": [
    "### Ejemplo"
   ]
  },
  {
   "cell_type": "code",
   "execution_count": 34,
   "metadata": {},
   "outputs": [],
   "source": [
    "from tensorflow.keras.models import Sequential\n",
    "from tensorflow.keras.layers import Embedding, LSTM, Dense\n",
    "from tensorflow.keras.datasets import imdb\n",
    "from tensorflow.keras.preprocessing.sequence import pad_sequences\n",
    "from tensorflow.keras.callbacks import EarlyStopping"
   ]
  },
  {
   "cell_type": "code",
   "execution_count": null,
   "metadata": {},
   "outputs": [
    {
     "name": "stdout",
     "output_type": "stream",
     "text": [
      "X_train shape: (25000, 1000), X_test shape: (25000, 1000)\n"
     ]
    }
   ],
   "source": [
    "# Parámetros del dataset\n",
    "max_features = 20000  # Número máximo de palabras en el vocabulario\n",
    "maxlen = 1000  # Longitud máxima de las secuencias (padding)\n",
    "\n",
    "# Cargar el conjunto de datos IMDB\n",
    "(X_train, y_train), (X_test, y_test) = imdb.load_data(num_words=max_features)\n",
    "\n",
    "# Padding de secuencias para que todas tengan la misma longitud\n",
    "X_train = pad_sequences(X_train, maxlen=maxlen)\n",
    "X_test = pad_sequences(X_test, maxlen=maxlen)\n",
    "\n",
    "# Dimensiones de las entradas\n",
    "print(f\"X_train shape: {X_train.shape}, X_test shape: {X_test.shape}\")\n"
   ]
  },
  {
   "cell_type": "code",
   "execution_count": 41,
   "metadata": {},
   "outputs": [
    {
     "name": "stderr",
     "output_type": "stream",
     "text": [
      "/opt/miniconda3/envs/deep_learning/lib/python3.10/site-packages/keras/src/layers/core/embedding.py:90: UserWarning: Argument `input_length` is deprecated. Just remove it.\n",
      "  warnings.warn(\n"
     ]
    },
    {
     "data": {
      "text/html": [
       "<pre style=\"white-space:pre;overflow-x:auto;line-height:normal;font-family:Menlo,'DejaVu Sans Mono',consolas,'Courier New',monospace\"><span style=\"font-weight: bold\">Model: \"sequential_15\"</span>\n",
       "</pre>\n"
      ],
      "text/plain": [
       "\u001b[1mModel: \"sequential_15\"\u001b[0m\n"
      ]
     },
     "metadata": {},
     "output_type": "display_data"
    },
    {
     "data": {
      "text/html": [
       "<pre style=\"white-space:pre;overflow-x:auto;line-height:normal;font-family:Menlo,'DejaVu Sans Mono',consolas,'Courier New',monospace\">┏━━━━━━━━━━━━━━━━━━━━━━━━━━━━━━━━━┳━━━━━━━━━━━━━━━━━━━━━━━━┳━━━━━━━━━━━━━━━┓\n",
       "┃<span style=\"font-weight: bold\"> Layer (type)                    </span>┃<span style=\"font-weight: bold\"> Output Shape           </span>┃<span style=\"font-weight: bold\">       Param # </span>┃\n",
       "┡━━━━━━━━━━━━━━━━━━━━━━━━━━━━━━━━━╇━━━━━━━━━━━━━━━━━━━━━━━━╇━━━━━━━━━━━━━━━┩\n",
       "│ embedding_15 (<span style=\"color: #0087ff; text-decoration-color: #0087ff\">Embedding</span>)        │ ?                      │   <span style=\"color: #00af00; text-decoration-color: #00af00\">0</span> (unbuilt) │\n",
       "├─────────────────────────────────┼────────────────────────┼───────────────┤\n",
       "│ lstm_1 (<span style=\"color: #0087ff; text-decoration-color: #0087ff\">LSTM</span>)                   │ ?                      │   <span style=\"color: #00af00; text-decoration-color: #00af00\">0</span> (unbuilt) │\n",
       "├─────────────────────────────────┼────────────────────────┼───────────────┤\n",
       "│ dense_15 (<span style=\"color: #0087ff; text-decoration-color: #0087ff\">Dense</span>)                │ ?                      │   <span style=\"color: #00af00; text-decoration-color: #00af00\">0</span> (unbuilt) │\n",
       "└─────────────────────────────────┴────────────────────────┴───────────────┘\n",
       "</pre>\n"
      ],
      "text/plain": [
       "┏━━━━━━━━━━━━━━━━━━━━━━━━━━━━━━━━━┳━━━━━━━━━━━━━━━━━━━━━━━━┳━━━━━━━━━━━━━━━┓\n",
       "┃\u001b[1m \u001b[0m\u001b[1mLayer (type)                   \u001b[0m\u001b[1m \u001b[0m┃\u001b[1m \u001b[0m\u001b[1mOutput Shape          \u001b[0m\u001b[1m \u001b[0m┃\u001b[1m \u001b[0m\u001b[1m      Param #\u001b[0m\u001b[1m \u001b[0m┃\n",
       "┡━━━━━━━━━━━━━━━━━━━━━━━━━━━━━━━━━╇━━━━━━━━━━━━━━━━━━━━━━━━╇━━━━━━━━━━━━━━━┩\n",
       "│ embedding_15 (\u001b[38;5;33mEmbedding\u001b[0m)        │ ?                      │   \u001b[38;5;34m0\u001b[0m (unbuilt) │\n",
       "├─────────────────────────────────┼────────────────────────┼───────────────┤\n",
       "│ lstm_1 (\u001b[38;5;33mLSTM\u001b[0m)                   │ ?                      │   \u001b[38;5;34m0\u001b[0m (unbuilt) │\n",
       "├─────────────────────────────────┼────────────────────────┼───────────────┤\n",
       "│ dense_15 (\u001b[38;5;33mDense\u001b[0m)                │ ?                      │   \u001b[38;5;34m0\u001b[0m (unbuilt) │\n",
       "└─────────────────────────────────┴────────────────────────┴───────────────┘\n"
      ]
     },
     "metadata": {},
     "output_type": "display_data"
    },
    {
     "data": {
      "text/html": [
       "<pre style=\"white-space:pre;overflow-x:auto;line-height:normal;font-family:Menlo,'DejaVu Sans Mono',consolas,'Courier New',monospace\"><span style=\"font-weight: bold\"> Total params: </span><span style=\"color: #00af00; text-decoration-color: #00af00\">0</span> (0.00 B)\n",
       "</pre>\n"
      ],
      "text/plain": [
       "\u001b[1m Total params: \u001b[0m\u001b[38;5;34m0\u001b[0m (0.00 B)\n"
      ]
     },
     "metadata": {},
     "output_type": "display_data"
    },
    {
     "data": {
      "text/html": [
       "<pre style=\"white-space:pre;overflow-x:auto;line-height:normal;font-family:Menlo,'DejaVu Sans Mono',consolas,'Courier New',monospace\"><span style=\"font-weight: bold\"> Trainable params: </span><span style=\"color: #00af00; text-decoration-color: #00af00\">0</span> (0.00 B)\n",
       "</pre>\n"
      ],
      "text/plain": [
       "\u001b[1m Trainable params: \u001b[0m\u001b[38;5;34m0\u001b[0m (0.00 B)\n"
      ]
     },
     "metadata": {},
     "output_type": "display_data"
    },
    {
     "data": {
      "text/html": [
       "<pre style=\"white-space:pre;overflow-x:auto;line-height:normal;font-family:Menlo,'DejaVu Sans Mono',consolas,'Courier New',monospace\"><span style=\"font-weight: bold\"> Non-trainable params: </span><span style=\"color: #00af00; text-decoration-color: #00af00\">0</span> (0.00 B)\n",
       "</pre>\n"
      ],
      "text/plain": [
       "\u001b[1m Non-trainable params: \u001b[0m\u001b[38;5;34m0\u001b[0m (0.00 B)\n"
      ]
     },
     "metadata": {},
     "output_type": "display_data"
    }
   ],
   "source": [
    "# Construir el modelo LSTM\n",
    "model = Sequential([\n",
    "    Embedding(input_dim=max_features, output_dim=32, input_length=maxlen),  # Capa de embedding\n",
    "    LSTM(32, dropout=0.2, recurrent_dropout=0.2),  # LSTM con dropout\n",
    "    Dense(1, activation='sigmoid')  # Capa de salida para clasificación binaria\n",
    "])\n",
    "\n",
    "# Compilar el modelo\n",
    "model.compile(optimizer='adam', loss='binary_crossentropy', metrics=['accuracy'])\n",
    "\n",
    "# Mostrar el resumen del modelo\n",
    "model.summary()\n"
   ]
  },
  {
   "cell_type": "code",
   "execution_count": 46,
   "metadata": {},
   "outputs": [
    {
     "name": "stdout",
     "output_type": "stream",
     "text": [
      "Epoch 1/20\n",
      "\u001b[1m274/274\u001b[0m \u001b[32m━━━━━━━━━━━━━━━━━━━━\u001b[0m\u001b[37m\u001b[0m \u001b[1m54s\u001b[0m 197ms/step - accuracy: 0.8934 - loss: 0.2789 - val_accuracy: 0.8567 - val_loss: 0.3504\n",
      "Epoch 2/20\n",
      "\u001b[1m274/274\u001b[0m \u001b[32m━━━━━━━━━━━━━━━━━━━━\u001b[0m\u001b[37m\u001b[0m \u001b[1m54s\u001b[0m 198ms/step - accuracy: 0.9110 - loss: 0.2486 - val_accuracy: 0.7068 - val_loss: 0.9172\n",
      "Epoch 3/20\n",
      "\u001b[1m274/274\u001b[0m \u001b[32m━━━━━━━━━━━━━━━━━━━━\u001b[0m\u001b[37m\u001b[0m \u001b[1m55s\u001b[0m 199ms/step - accuracy: 0.7554 - loss: 0.5697 - val_accuracy: 0.8459 - val_loss: 0.3846\n",
      "Epoch 4/20\n",
      "\u001b[1m274/274\u001b[0m \u001b[32m━━━━━━━━━━━━━━━━━━━━\u001b[0m\u001b[37m\u001b[0m \u001b[1m56s\u001b[0m 205ms/step - accuracy: 0.8860 - loss: 0.3014 - val_accuracy: 0.8512 - val_loss: 0.3770\n"
     ]
    }
   ],
   "source": [
    "# Configurar Early Stopping para evitar sobreajuste\n",
    "early_stopping = EarlyStopping(monitor='val_loss', patience=3, restore_best_weights=True)\n",
    "\n",
    "# Entrenar el modelo\n",
    "history = model.fit(\n",
    "    X_train, y_train,\n",
    "    epochs=20,  # Máximo número de épocas\n",
    "    batch_size=64,  # Tamaño de los lotes\n",
    "    validation_split=0.3,  # Usar 20% de los datos de entrenamiento para validación\n",
    "    callbacks=[early_stopping]\n",
    ")\n"
   ]
  },
  {
   "cell_type": "code",
   "execution_count": 49,
   "metadata": {},
   "outputs": [
    {
     "name": "stdout",
     "output_type": "stream",
     "text": [
      "\u001b[1m782/782\u001b[0m \u001b[32m━━━━━━━━━━━━━━━━━━━━\u001b[0m\u001b[37m\u001b[0m \u001b[1m22s\u001b[0m 28ms/step - accuracy: 0.8306 - loss: 0.3985\n",
      "Pérdida en el conjunto de prueba: 0.3931\n",
      "Precisión en el conjunto de prueba: 0.8337\n"
     ]
    }
   ],
   "source": [
    "# Evaluar el modelo en el conjunto de prueba\n",
    "test_loss, test_acc = model.evaluate(X_test, y_test)\n",
    "print(f\"Pérdida en el conjunto de prueba: {test_loss:.4f}\")\n",
    "print(f\"Precisión en el conjunto de prueba: {test_acc:.4f}\")\n"
   ]
  },
  {
   "cell_type": "code",
   "execution_count": 50,
   "metadata": {},
   "outputs": [
    {
     "data": {
      "image/png": "[encoded data removed]",
      "text/plain": [
       "<Figure size 640x480 with 1 Axes>"
      ]
     },
     "metadata": {},
     "output_type": "display_data"
    },
    {
     "data": {
      "image/png": "[encoded data removed]",
      "text/plain": [
       "<Figure size 640x480 with 1 Axes>"
      ]
     },
     "metadata": {},
     "output_type": "display_data"
    }
   ],
   "source": [
    "import matplotlib.pyplot as plt\n",
    "\n",
    "# Graficar precisión de entrenamiento y validación\n",
    "plt.plot(history.history['accuracy'], label='Precisión de Entrenamiento')\n",
    "plt.plot(history.history['val_accuracy'], label='Precisión de Validación')\n",
    "plt.xlabel('Épocas')\n",
    "plt.ylabel('Precisión')\n",
    "plt.legend()\n",
    "plt.show()\n",
    "\n",
    "# Graficar pérdida de entrenamiento y validación\n",
    "plt.plot(history.history['loss'], label='Pérdida de Entrenamiento')\n",
    "plt.plot(history.history['val_loss'], label='Pérdida de Validación')\n",
    "plt.xlabel('Épocas')\n",
    "plt.ylabel('Pérdida')\n",
    "plt.legend()\n",
    "plt.show()\n"
   ]
  },
  {
   "cell_type": "markdown",
   "metadata": {},
   "source": [
    "## GRU (Gated Recurrent Unit)"
   ]
  },
  {
   "cell_type": "markdown",
   "metadata": {},
   "source": [
    "**1. ¿Qué es?**  \n",
    "El GRU es una variante simplificada del LSTM que combina las puertas de entrada y olvido en una única puerta, haciendo que sea más eficiente computacionalmente.\n",
    "\n",
    "**2. ¿Para qué sirve y cuáles son sus casos de uso frecuentes?**  \n",
    "GRU es útil en tareas similares al LSTM, pero es preferido en aplicaciones donde se requiere menor complejidad computacional.\n",
    "\n",
    "**3. ¿Cómo funciona a nivel general?**  \n",
    "En lugar de utilizar celdas de memoria separadas, el GRU tiene un estado oculto único que se actualiza utilizando dos puertas:\n",
    "- Puerta de Actualización: Decide cuánto de la información pasada retener.\n",
    "- Puerta de Reinicio: Controla cuánto de la nueva información agregar.\n",
    "\n",
    "**4. ¿Cómo funciona el algoritmo?**  \n",
    "Los pasos básicos de un GRU son:\n",
    "\n",
    "- Puerta de Actualización:\n",
    "  $$\n",
    "  z_t = \\sigma(W_z [h_{t-1}, x_t] + b_z)\n",
    "  $$\n",
    "\n",
    "- Puerta de Reinicio:\n",
    "  $$\n",
    "  r_t = \\sigma(W_r [h_{t-1}, x_t] + b_r)\n",
    "  $$\n",
    "\n",
    "- Cálculo del Nuevo Estado:\n",
    "  $$\n",
    "  \\tilde{h}_t = \\tanh(W [r_t \\odot h_{t-1}, x_t] + b)\n",
    "  $$\n",
    "\n",
    "- Actualización del Estado Oculto:\n",
    "  $$\n",
    "  h_t = (1 - z_t) \\odot h_{t-1} + z_t \\odot \\tilde{h}_t\n",
    "  $$\n",
    "\n",
    "Estas arquitecturas permiten manejar dependencias secuenciales de manera eficiente y superar las limitaciones de las RNN simples."
   ]
  }
 ],
 "metadata": {
  "kernelspec": {
   "display_name": "deep_learning",
   "language": "python",
   "name": "python3"
  },
  "language_info": {
   "codemirror_mode": {
    "name": "ipython",
    "version": 3
   },
   "file_extension": ".py",
   "mimetype": "text/x-python",
   "name": "python",
   "nbconvert_exporter": "python",
   "pygments_lexer": "ipython3",
   "version": "3.10.13"
  }
 },
 "nbformat": 4,
 "nbformat_minor": 2
}
