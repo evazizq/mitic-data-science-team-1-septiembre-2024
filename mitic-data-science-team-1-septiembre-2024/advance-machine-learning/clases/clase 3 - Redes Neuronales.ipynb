{
 "cells": [
  {
   "cell_type": "markdown",
   "metadata": {},
   "source": [
    "# Clase 1 - Redes Neuronales : Una introducción"
   ]
  },
  {
   "cell_type": "markdown",
   "metadata": {},
   "source": [
    "## Configuación"
   ]
  },
  {
   "cell_type": "markdown",
   "metadata": {},
   "source": [
    "### Instrucciones de instalación"
   ]
  },
  {
   "cell_type": "markdown",
   "metadata": {},
   "source": [
    "1. Crear un nuevo ambiente llamado deep_learning\n",
    "\n",
    "* conda create -n deep_learning python=3.10 -y\n",
    "\n",
    "2. Activar el ambiente\n",
    "\n",
    "* conda activate deep_learning\n",
    "\n",
    "3. Instalar TensorFlow y Keras (Keras viene incluido con TensorFlow)\n",
    "\n",
    "* pip install tensorflow\n",
    "\n",
    "4. Instalar bibliotecas adicionales para visualización y manejo de datos\n",
    "\n",
    "* pip install matplotlib seaborn pandas numpy\n",
    "\n",
    "5. Instalar Jupyter Lab y configurarlo para VS Code\n",
    "\n",
    "* pip install jupyterlab ipykernel\n",
    "* python -m ipykernel install --user --name=deep_learning --display-name \"Python (deep_learning)\"\n",
    "\n",
    "6. Verificar las versiones instaladas (opcional)\n",
    "\n",
    "* python -c \"import tensorflow as tf; print('TensorFlow:', tf.__version__)\"\n",
    "* python -c \"import matplotlib; print('Matplotlib:', matplotlib.__version__)\"\n",
    "* python -c \"import seaborn; print('Seaborn:', seaborn.__version__)\"\n",
    "* python -c \"import pandas as pd; print('Pandas:', pd.__version__)\"\n",
    "* python -c \"import numpy as np; print('NumPy:', np.__version__)\"\n",
    "\n",
    "7. Configurar VS Code\n",
    " - Instalar el plugin \"Jupyter\" en VS Code.\n",
    " - Abrir un archivo `.ipynb` en VS Code.\n",
    " - Seleccionar el kernel \"Python (deep_learning)\" desde la parte superior derecha.\n",
    "\n",
    " 8. (Opcional) Iniciar Jupyter Lab para comprobar el entorno"
   ]
  },
  {
   "cell_type": "markdown",
   "metadata": {},
   "source": [
    "### Librerias"
   ]
  },
  {
   "cell_type": "code",
   "execution_count": 1,
   "metadata": {},
   "outputs": [],
   "source": [
    "from tensorflow.keras.models import Sequential\n",
    "from tensorflow.keras.layers import Dense, Flatten, Conv2D, MaxPooling2D\n",
    "from tensorflow.keras.datasets import mnist\n",
    "from tensorflow.keras.utils import to_categorical\n",
    "import matplotlib.pyplot as plt"
   ]
  },
  {
   "cell_type": "markdown",
   "metadata": {},
   "source": [
    "## Conceptos"
   ]
  },
  {
   "cell_type": "markdown",
   "metadata": {},
   "source": [
    "### **¿Qué es?**"
   ]
  },
  {
   "cell_type": "markdown",
   "metadata": {},
   "source": [
    "#### **Deep learning**"
   ]
  },
  {
   "cell_type": "markdown",
   "metadata": {},
   "source": [
    "Deep learning es una rama del machine learning que utiliza redes neuronales artificiales con múltiples capas (llamadas redes neuronales profundas) para aprender patrones complejos en los datos. Funciona de la siguiente manera:\n",
    "\n",
    "1. **Entrada de datos**:  \n",
    "   Los datos, como imágenes, texto o sonidos, se ingresan en la red neuronal. Cada dato pasa por la primera capa de la red, llamada capa de entrada.\n",
    "\n",
    "2. **Capas ocultas**:  \n",
    "   Entre la capa de entrada y la de salida, hay capas ocultas que procesan los datos. Cada capa aplica transformaciones matemáticas usando neuronas conectadas entre sí. Estas neuronas calculan valores basados en pesos y sesgos, que son parámetros ajustables.\n",
    "\n",
    "3. **Funciones de activación**:  \n",
    "   Después de procesar los datos en una capa, se utiliza una función de activación para decidir qué información pasa a la siguiente capa. Esto ayuda a la red a aprender relaciones no lineales en los datos.\n",
    "\n",
    "4. **Capa de salida**:  \n",
    "   La última capa genera una predicción, como clasificar una imagen, traducir un texto o predecir un número.\n",
    "\n",
    "5. **Entrenamiento**:  \n",
    "   Para que la red aprenda, se utiliza un conjunto de datos etiquetados. El algoritmo calcula el error entre la predicción y la etiqueta real usando una función de pérdida.\n",
    "\n",
    "6. **Optimización**:  \n",
    "   El error se reduce ajustando los pesos y sesgos de las neuronas usando un proceso llamado retropropagación. Esto se realiza mediante un optimizador, como el algoritmo de gradiente descendente.\n",
    "\n",
    "7. **Iteración**:  \n",
    "   Este proceso se repite muchas veces (llamadas épocas) hasta que la red aprende a realizar buenas predicciones.\n",
    "\n",
    "$Deep\\ learning$ es útil porque puede aprender patrones muy complejos directamente de los datos, sin necesidad de extraer manualmente características importantes, como ocurría con técnicas más tradicionales.\n"
   ]
  },
  {
   "cell_type": "markdown",
   "metadata": {},
   "source": [
    "#### **Función de activación**"
   ]
  },
  {
   "cell_type": "markdown",
   "metadata": {},
   "source": [
    "Una **función de activación** es un componente fundamental en las redes neuronales. Su objetivo principal es introducir no linealidad en el modelo, permitiendo a la red aprender relaciones complejas entre las entradas y salidas.\n",
    "\n",
    "---\n",
    "\n",
    "**Propósito:**\n",
    "\n",
    "1. **No linealidad**:  \n",
    "   - Sin funciones de activación, una red neuronal sería equivalente a una combinación lineal, incapaz de resolver problemas complejos.\n",
    "   - La función de activación permite que el modelo aprenda relaciones no lineales en los datos.\n",
    "\n",
    "2. **Transformación de datos**:  \n",
    "   - Transforma la salida de una neurona para que sea adecuada para las siguientes capas.\n",
    "\n",
    "---\n",
    "\n",
    "**Tipos de funciones de activación comunes:**\n",
    "\n",
    "1. **Sigmoidea**:  \n",
    "   $\n",
    "   \\sigma(x) = \\frac{1}{1 + e^{-x}}\n",
    "   $  \n",
    "   - Rango: $(0, 1)$.  \n",
    "   - Usos: Salidas de redes para clasificación binaria.  \n",
    "   - Limitaciones: Gradiente pequeño para valores extremos, causando desvanecimiento del gradiente.\n",
    "\n",
    "2. **Tanh (Tangente hiperbólica)**:  \n",
    "   $\n",
    "   \\text{tanh}(x) = \\frac{e^x - e^{-x}}{e^x + e^{-x}}\n",
    "   $  \n",
    "   - Rango: $(-1, 1)$.  \n",
    "   - Usos: Problemas donde las salidas negativas tienen sentido.  \n",
    "   - Ventaja: Centrada en $0$, pero también sufre desvanecimiento del gradiente.\n",
    "\n",
    "3. **ReLU (Unidad lineal rectificada)**:  \n",
    "   $\n",
    "   \\text{ReLU}(x) = \\max(0, x)\n",
    "   $  \n",
    "   - Rango: $[0, \\infty)$.  \n",
    "   - Usos: Capas ocultas en redes profundas.  \n",
    "   - Ventajas: Computacionalmente eficiente, no tiene problema de desvanecimiento del gradiente.  \n",
    "   - Limitaciones: Neuronas pueden quedar \"muertas\" si reciben valores negativos constantemente.\n",
    "\n",
    "4. **Leaky ReLU**:  \n",
    "   $\n",
    "   \\text{Leaky ReLU}(x) = \n",
    "   \\begin{cases} \n",
    "   x & \\text{si } x > 0 \\\\\n",
    "   \\alpha x & \\text{si } x \\leq 0\n",
    "   \\end{cases}\n",
    "   $  \n",
    "   - Rango: $(-\\infty, \\infty)$.  \n",
    "   - Usos: Variante de ReLU para evitar el problema de las neuronas muertas.\n",
    "\n",
    "5. **Softmax**:  \n",
    "   $\n",
    "   \\text{softmax}(z_i) = \\frac{e^{z_i}}{\\sum_{j} e^{z_j}}\n",
    "   $  \n",
    "   - Rango: $(0, 1)$, suma de las salidas igual a $1$.  \n",
    "   - Usos: Capas de salida en clasificación multiclase.\n",
    "\n",
    "---\n",
    "\n",
    "**Cómo se usa en Deep Learning:**\n",
    "\n",
    "1. **Propagación hacia adelante**:\n",
    "   - Después de calcular $z = W \\cdot x + b$, la función de activación se aplica para generar la salida activada:\n",
    "     $\n",
    "     a = f(z)\n",
    "     $\n",
    "\n",
    "2. **Capas ocultas**:\n",
    "   - ReLU y sus variantes son comunes debido a su eficiencia en redes profundas.\n",
    "\n",
    "3. **Capas de salida**:\n",
    "   - Para problemas de clasificación binaria: Sigmoidea.  \n",
    "   - Para clasificación multiclase: Softmax.\n",
    "\n",
    "4. **Aprendizaje**:\n",
    "   - La función de activación afecta cómo los gradientes se propagan durante el entrenamiento:\n",
    "     - Funciones como ReLU permiten un flujo de gradientes más estable.\n",
    "     - Funciones como Sigmoidea pueden sufrir desvanecimiento del gradiente.\n",
    "\n",
    "---\n",
    "\n",
    "**Ejemplo:**\n",
    "En una red neuronal para clasificar imágenes:\n",
    "- Entrada: Características de la imagen.  \n",
    "- Capas ocultas: Usan ReLU para aprender representaciones.  \n",
    "- Capa de salida: Usa Softmax para calcular las probabilidades de cada clase.\n",
    "\n",
    "Las funciones de activación son esenciales para que las redes neuronales resuelvan problemas complejos y generen predicciones precisas."
   ]
  },
  {
   "cell_type": "markdown",
   "metadata": {},
   "source": [
    "#### **Sesgo**"
   ]
  },
  {
   "cell_type": "markdown",
   "metadata": {},
   "source": [
    "El sesgo es un concepto fundamental en machine learning y estadística que puede entenderse desde varios contextos. A continuación, se explica de manera clara:\n",
    "\n",
    "1. **Sesgo en Machine Learning**:\n",
    "   - El **sesgo** se refiere a la capacidad de un modelo para capturar los patrones subyacentes en los datos.\n",
    "   - Modelos con **alto sesgo** suelen ser demasiado simples y no logran capturar la complejidad de los datos, lo que lleva a un bajo rendimiento tanto en el conjunto de entrenamiento como en el de prueba (subajuste).\n",
    "   - Ejemplo: Una línea recta para ajustar datos que tienen una relación cuadrática.\n",
    "\n",
    "2. **Sesgo en Redes Neuronales**:\n",
    "   - En redes neuronales, el **sesgo** es un parámetro adicional que se suma a la salida ponderada de una neurona antes de aplicar la función de activación:\n",
    "     $z = W \\cdot x + b$\n",
    "     donde $b$ es el sesgo.\n",
    "   - Este valor permite que la función de activación se desplace hacia arriba o hacia abajo, haciendo que el modelo sea más flexible para aprender.\n",
    "\n",
    "3. **Sesgo en el contexto de datos**:\n",
    "   - El **sesgo** puede ocurrir cuando los datos utilizados para entrenar el modelo no son representativos de la realidad.\n",
    "   - Ejemplo: Un modelo entrenado solo con imágenes de gatos blancos podría no reconocer gatos negros.\n",
    "\n",
    "4. **Relación con la Varianza**:\n",
    "   - El sesgo está relacionado con la **varianza** en el trade-off de sesgo-varianza:\n",
    "     - Alto sesgo: Modelos simples con baja flexibilidad (subajuste).\n",
    "     - Baja varianza: Predicciones consistentes pero no precisas.\n",
    "     - Equilibrio ideal: Un modelo con un nivel moderado de sesgo y varianza.\n",
    "\n",
    "En resumen, el sesgo es tanto una propiedad de los modelos como un factor en la calidad de los datos. En machine learning, encontrar el balance adecuado entre sesgo y varianza es crucial para construir modelos efectivos."
   ]
  },
  {
   "cell_type": "markdown",
   "metadata": {},
   "source": [
    "#### **Función sigmoidea**"
   ]
  },
  {
   "cell_type": "markdown",
   "metadata": {},
   "source": [
    "La **función sigmoidea** es una función matemática utilizada frecuentemente como función de activación en redes neuronales, especialmente en capas de salida para problemas de clasificación binaria. Su ecuación es:\n",
    "\n",
    "$\n",
    "\\sigma(x) = \\frac{1}{1 + e^{-x}}\n",
    "$\n",
    "\n",
    "**Propiedades principales:**\n",
    "\n",
    "1. **Rango**: \n",
    "   - La salida de la función sigmoidea está en el intervalo $(0, 1)$.\n",
    "   - Esto la hace útil para representar probabilidades.\n",
    "\n",
    "2. **Forma de la curva**: \n",
    "   - Es una curva en forma de \"S\" (sigmoide), que suaviza los valores de entrada.\n",
    "   - Valores de entrada ($x$) muy grandes se aproximan a $1$, y valores muy pequeños se aproximan a $0$.\n",
    "\n",
    "3. **Derivada**: \n",
    "   - La derivada de la función sigmoidea es:\n",
    "     $\n",
    "     \\sigma'(x) = \\sigma(x) \\cdot (1 - \\sigma(x))\n",
    "     $\n",
    "   - Es computacionalmente eficiente, ya que se reutiliza el valor de $\\sigma(x)$.\n",
    "\n",
    "---\n",
    "\n",
    "**Cómo se usa en Deep Learning:**\n",
    "\n",
    "1. **Capas de salida**:\n",
    "   - En redes neuronales para clasificación binaria, se utiliza en la capa de salida para convertir un valor arbitrario en una probabilidad.\n",
    "   - Ejemplo:\n",
    "     - Si $\\sigma(x) = 0.8$, se interpreta como un 80% de probabilidad de pertenecer a la clase positiva.\n",
    "\n",
    "2. **Propagación hacia adelante**:\n",
    "   - La función sigmoidea transforma la salida lineal de una neurona:\n",
    "     $\n",
    "     z = W \\cdot x + b\n",
    "     $\n",
    "     $\n",
    "     a = \\sigma(z)\n",
    "     $\n",
    "\n",
    "3. **Cálculo del error**:\n",
    "   - En combinación con la entropía cruzada como función de pérdida, la sigmoidea optimiza los pesos para problemas de clasificación binaria.\n",
    "\n",
    "4. **Limitaciones**:\n",
    "   - **Desvanecimiento del gradiente**:\n",
    "     - Cuando las entradas son muy grandes o muy pequeñas, el gradiente tiende a $0$, lo que puede ralentizar el aprendizaje.\n",
    "   - En la práctica, se prefiere ReLU en capas ocultas por su mejor manejo de gradientes.\n",
    "\n",
    "---\n",
    "\n",
    "**Ejemplo:**\n",
    "\n",
    "Imaginemos una red neuronal para detectar correos spam:\n",
    "- Entrada: $x$ (características del correo).\n",
    "- Salida: $z = W \\cdot x + b$.\n",
    "- Activación: $\\sigma(z)$ genera una probabilidad, por ejemplo, $\\sigma(z) = 0.9$.\n",
    "- Interpretación: El correo tiene un 90% de probabilidad de ser spam.\n",
    "\n",
    "La función sigmoidea es especialmente útil cuando queremos resultados probabilísticos o trabajar con modelos simples de clasificación binaria."
   ]
  },
  {
   "cell_type": "code",
   "execution_count": 2,
   "metadata": {},
   "outputs": [
    {
     "data": {
      "image/png": "[encoded data removed]",
      "text/plain": [
       "<Figure size 800x600 with 1 Axes>"
      ]
     },
     "metadata": {},
     "output_type": "display_data"
    }
   ],
   "source": [
    "import numpy as np\n",
    "import matplotlib.pyplot as plt\n",
    "\n",
    "# Definir la función sigmoidea\n",
    "def sigmoid(x):\n",
    "    return 1 / (1 + np.exp(-x))\n",
    "\n",
    "# Generar valores para x\n",
    "x = np.linspace(-10, 10, 100)\n",
    "\n",
    "# Calcular los valores de la función sigmoidea\n",
    "y = sigmoid(x)\n",
    "\n",
    "# Graficar la función\n",
    "plt.figure(figsize=(8, 6))\n",
    "plt.plot(x, y, label=\"Sigmoidea\", color=\"blue\")\n",
    "plt.title(\"Función Sigmoidea\")\n",
    "plt.xlabel(\"x\")\n",
    "plt.ylabel(\"$\\sigma(x)$\")\n",
    "plt.axhline(0, color='black',linewidth=0.5, linestyle=\"--\")\n",
    "plt.axvline(0, color='black',linewidth=0.5, linestyle=\"--\")\n",
    "plt.grid(alpha=0.3)\n",
    "plt.legend()\n",
    "plt.show()"
   ]
  },
  {
   "cell_type": "markdown",
   "metadata": {},
   "source": [
    "### **¿Cómo funciona?**"
   ]
  },
  {
   "cell_type": "markdown",
   "metadata": {},
   "source": [
    "Para entender el funcionamiento de una red neuronal y cómo se construye, lo organizaremos como un flujo claro y secuencial:\n",
    "\n",
    "1. **Definición de los componentes básicos**:\n",
    "   - **Neuronas**: Cada una procesa datos de entrada y genera una salida aplicando pesos, un sesgo y una función de activación.\n",
    "   - **Capas**:\n",
    "     - Entrada: Recoge los datos iniciales.\n",
    "     - Ocultas: Procesan los datos a través de múltiples neuronas.\n",
    "     - Salida: Genera la predicción final.\n",
    "   - **Conexiones**: Las neuronas de una capa están conectadas a las de la siguiente mediante pesos.\n",
    "   - **Funciones de activación**: Introducen no linealidad para resolver problemas complejos.\n",
    "\n",
    "2. **Propagación de los datos a través de la red**:\n",
    "   - Los datos ingresan en la **capa de entrada**.\n",
    "   - En cada **capa oculta**, se realiza el cálculo:\n",
    "     - $z = W \\cdot x + b$ (peso por entrada más sesgo).\n",
    "     - $a = f(z)$ (aplicar función de activación como ReLU o Sigmoid).\n",
    "   - El resultado pasa a la siguiente capa hasta llegar a la **capa de salida**, donde se genera una predicción.\n",
    "\n",
    "3. **Medición del error (Función de pérdida)**:\n",
    "   - Una vez obtenida la predicción, se compara con la respuesta esperada usando una función de pérdida.\n",
    "   - Ejemplo de funciones de pérdida:\n",
    "     - **Clasificación**: Entropía cruzada.\n",
    "     - **Regresión**: Error cuadrático medio (MSE).\n",
    "\n",
    "4. **Optimización y aprendizaje**:\n",
    "   - Se usa **retropropagación** para ajustar los pesos y minimizar el error:\n",
    "     - Calcular el gradiente del error respecto a los pesos.\n",
    "     - Actualizar los pesos usando un optimizador, como:\n",
    "       $W = W - \\eta \\cdot \\frac{\\partial L}{\\partial W}$,  \n",
    "       donde $\\eta$ es la tasa de aprendizaje y $L$ la función de pérdida.\n",
    "   - Este ajuste se repite en múltiples **épocas**, cada una pasando todos los datos.\n",
    "\n",
    "5. **Construcción de la red neuronal**:\n",
    "   - **Arquitectura**:\n",
    "     - Elegir el número de capas y neuronas.\n",
    "     - Definir funciones de activación (ReLU, Sigmoid, etc.).\n",
    "   - **Preparación de los datos**:\n",
    "     - Escalar o normalizar para mejorar el rendimiento.\n",
    "     - Dividir en conjuntos de entrenamiento, validación y prueba.\n",
    "   - **Entrenamiento**:\n",
    "     - Alimentar los datos en lotes (batch).\n",
    "     - Optimizar los pesos en cada iteración.\n",
    "     - Validar para evitar sobreajuste.\n",
    "   - **Evaluación**:\n",
    "     - Probar con los datos de prueba y medir el rendimiento.\n",
    "   - **Ajustes finales**:\n",
    "     - Modificar hiperparámetros (capas, tasa de aprendizaje, etc.) si es necesario."
   ]
  },
  {
   "cell_type": "markdown",
   "metadata": {},
   "source": [
    "### **Ejemplo**"
   ]
  },
  {
   "cell_type": "markdown",
   "metadata": {},
   "source": [
    "Consideremos un ejemplo más grande: clasificar imágenes de dígitos escritos a mano (del 0 al 9) usando un conjunto de datos como MNIST.\n",
    "[Video aquí](https://www.youtube.com/watch?v=jKCQsndqEGQ&t=999s)\n",
    "\n",
    "1. **Datos de entrada**:  \n",
    "   Cada imagen tiene un tamaño de $28 \\times 28$ píxeles, lo que equivale a $784$ píxeles en total. Estos se aplanan en un vector de entrada:  \n",
    "   $\\mathbf{x} = [x_1, x_2, \\ldots, x_{784}]$,  \n",
    "   donde cada $x_i$ representa la intensidad de un píxel (entre 0 y 255).\n",
    "\n",
    "2. **Capa de entrada**:  \n",
    "   La red tiene $784$ neuronas en la capa de entrada, una por cada píxel.\n",
    "\n",
    "3. **Capas ocultas (procesamiento interno)**:\n",
    "   Supongamos que tenemos dos capas ocultas con 128 y 64 neuronas, respectivamente:\n",
    "   - **Primera capa oculta**:\n",
    "     - Cada neurona combina las entradas usando pesos y sesgos:\n",
    "       $z_1 = W_1 \\cdot x + b_1$  \n",
    "     - Aplicamos una función de activación ReLU:\n",
    "       $a_1 = ReLU(z_1)$\n",
    "     - Salida: $128$ valores, uno por neurona.\n",
    "   - **Segunda capa oculta**:\n",
    "     - Toma los $128$ valores y calcula:\n",
    "       $z_2 = W_2 \\cdot a_1 + b_2$  \n",
    "       $a_2 = ReLU(z_2)$\n",
    "     - Salida: $64$ valores.\n",
    "\n",
    "4. **Capa de salida**:  \n",
    "   La última capa tiene $10$ neuronas (una por cada dígito). Cada neurona calcula una probabilidad usando la función softmax:\n",
    "   - $y_{\\text{pred}_i} = \\frac{e^{z_i}}{\\sum_{j=1}^{10} e^{z_j}}$  \n",
    "   - La red predice el dígito con mayor probabilidad.\n",
    "\n",
    "5. **Función de pérdida**:  \n",
    "   Usamos la entropía cruzada para comparar las probabilidades predichas con la etiqueta real:\n",
    "   - $L = -\\sum_{i=1}^{10} y_{\\text{real}_i} \\cdot \\log(y_{\\text{pred}_i})$\n",
    "\n",
    "6. **Retropropagación y optimización**:\n",
    "   - Calculamos los gradientes del error respecto a los pesos y sesgos.\n",
    "   - Ajustamos los parámetros usando un optimizador como Adam o SGD:\n",
    "     $W = W - \\eta \\cdot \\frac{\\partial L}{\\partial W}$,  \n",
    "     donde $\\eta$ es la tasa de aprendizaje.\n",
    "\n",
    "7. **Repetir el entrenamiento**:  \n",
    "   Repetimos el proceso para todas las imágenes en múltiples épocas.  \n",
    "   Después de suficiente entrenamiento, la red puede clasificar imágenes nuevas con alta precisión.\n",
    "\n",
    "**Ejemplo de predicción**:  \n",
    "- Imagen de entrada: Un \"3\".  \n",
    "- Probabilidades en la capa de salida:  \n",
    "  $\\mathbf{y_{\\text{pred}}} = [0.01, 0.02, 0.03, 0.90, 0.01, 0.01, 0.01, 0.01, 0.01, 0.01]$  \n",
    "- Predicción: La red identifica el dígito como $3$ (la probabilidad más alta es en el índice 3).\n",
    "\n",
    "Este ejemplo demuestra cómo una red neuronal maneja datos de mayor tamaño para resolver problemas más complejos."
   ]
  },
  {
   "cell_type": "markdown",
   "metadata": {},
   "source": [
    "### Código del ejemplo"
   ]
  },
  {
   "cell_type": "code",
   "execution_count": 3,
   "metadata": {},
   "outputs": [
    {
     "name": "stdout",
     "output_type": "stream",
     "text": [
      "Epoch 1/5\n"
     ]
    },
    {
     "name": "stderr",
     "output_type": "stream",
     "text": [
      "/opt/miniconda3/envs/deep_learning/lib/python3.10/site-packages/keras/src/layers/convolutional/base_conv.py:107: UserWarning: Do not pass an `input_shape`/`input_dim` argument to a layer. When using Sequential models, prefer using an `Input(shape)` object as the first layer in the model instead.\n",
      "  super().__init__(activity_regularizer=activity_regularizer, **kwargs)\n"
     ]
    },
    {
     "name": "stdout",
     "output_type": "stream",
     "text": [
      "\u001b[1m1407/1407\u001b[0m \u001b[32m━━━━━━━━━━━━━━━━━━━━\u001b[0m\u001b[37m\u001b[0m \u001b[1m8s\u001b[0m 6ms/step - accuracy: 0.8935 - loss: 0.3411 - val_accuracy: 0.9805 - val_loss: 0.0630\n",
      "Epoch 2/5\n",
      "\u001b[1m1407/1407\u001b[0m \u001b[32m━━━━━━━━━━━━━━━━━━━━\u001b[0m\u001b[37m\u001b[0m \u001b[1m8s\u001b[0m 6ms/step - accuracy: 0.9847 - loss: 0.0488 - val_accuracy: 0.9831 - val_loss: 0.0548\n",
      "Epoch 3/5\n",
      "\u001b[1m1407/1407\u001b[0m \u001b[32m━━━━━━━━━━━━━━━━━━━━\u001b[0m\u001b[37m\u001b[0m \u001b[1m9s\u001b[0m 6ms/step - accuracy: 0.9908 - loss: 0.0315 - val_accuracy: 0.9861 - val_loss: 0.0468\n",
      "Epoch 4/5\n",
      "\u001b[1m1407/1407\u001b[0m \u001b[32m━━━━━━━━━━━━━━━━━━━━\u001b[0m\u001b[37m\u001b[0m \u001b[1m9s\u001b[0m 6ms/step - accuracy: 0.9931 - loss: 0.0213 - val_accuracy: 0.9862 - val_loss: 0.0438\n",
      "Epoch 5/5\n",
      "\u001b[1m1407/1407\u001b[0m \u001b[32m━━━━━━━━━━━━━━━━━━━━\u001b[0m\u001b[37m\u001b[0m \u001b[1m9s\u001b[0m 7ms/step - accuracy: 0.9951 - loss: 0.0158 - val_accuracy: 0.9899 - val_loss: 0.0411\n",
      "\u001b[1m313/313\u001b[0m \u001b[32m━━━━━━━━━━━━━━━━━━━━\u001b[0m\u001b[37m\u001b[0m \u001b[1m1s\u001b[0m 3ms/step - accuracy: 0.9875 - loss: 0.0367\n",
      "Accuracy en el conjunto de prueba: 0.99\n",
      "\u001b[1m313/313\u001b[0m \u001b[32m━━━━━━━━━━━━━━━━━━━━\u001b[0m\u001b[37m\u001b[0m \u001b[1m1s\u001b[0m 3ms/step\n"
     ]
    },
    {
     "data": {
      "image/png": "[encoded data removed]",
      "text/plain": [
       "<Figure size 640x480 with 1 Axes>"
      ]
     },
     "metadata": {},
     "output_type": "display_data"
    },
    {
     "data": {
      "image/png": "[encoded data removed]",
      "text/plain": [
       "<Figure size 640x480 with 1 Axes>"
      ]
     },
     "metadata": {},
     "output_type": "display_data"
    },
    {
     "data": {
      "image/png": "[encoded data removed]",
      "text/plain": [
       "<Figure size 640x480 with 1 Axes>"
      ]
     },
     "metadata": {},
     "output_type": "display_data"
    },
    {
     "data": {
      "image/png": "[encoded data removed]",
      "text/plain": [
       "<Figure size 640x480 with 1 Axes>"
      ]
     },
     "metadata": {},
     "output_type": "display_data"
    },
    {
     "data": {
      "image/png": "[encoded data removed]",
      "text/plain": [
       "<Figure size 640x480 with 1 Axes>"
      ]
     },
     "metadata": {},
     "output_type": "display_data"
    }
   ],
   "source": [
    "# Cargar el dataset MNIST\n",
    "(x_train, y_train), (x_test, y_test) = mnist.load_data()\n",
    "\n",
    "# Normalizar los datos\n",
    "x_train = x_train / 255.0\n",
    "x_test = x_test / 255.0\n",
    "\n",
    "# Redimensionar las imágenes para añadir el canal de color (1 para escala de grises)\n",
    "x_train = x_train.reshape(-1, 28, 28, 1)\n",
    "x_test = x_test.reshape(-1, 28, 28, 1)\n",
    "\n",
    "# Convertir las etiquetas en formato one-hot encoding\n",
    "y_train = to_categorical(y_train, 10)\n",
    "y_test = to_categorical(y_test, 10)\n",
    "\n",
    "# Crear el modelo\n",
    "model = Sequential([\n",
    "    Conv2D(32, (3, 3), activation='relu', input_shape=(28, 28, 1)),\n",
    "    MaxPooling2D((2, 2)),\n",
    "    Conv2D(64, (3, 3), activation='relu'),\n",
    "    MaxPooling2D((2, 2)),\n",
    "    Flatten(),\n",
    "    Dense(128, activation='relu'),\n",
    "    Dense(10, activation='softmax')  # 10 clases (0-9)\n",
    "])\n",
    "\n",
    "# Compilar el modelo\n",
    "model.compile(optimizer='adam',\n",
    "              loss='categorical_crossentropy',\n",
    "              metrics=['accuracy'])\n",
    "\n",
    "# Entrenar el modelo\n",
    "history = model.fit(x_train, y_train, epochs=5, validation_split=0.25)\n",
    "\n",
    "# Evaluar el modelo en el conjunto de prueba\n",
    "test_loss, test_accuracy = model.evaluate(x_test, y_test)\n",
    "print(f\"Accuracy en el conjunto de prueba: {test_accuracy:.2f}\")\n",
    "\n",
    "# Visualizar algunas predicciones\n",
    "predictions = model.predict(x_test)\n",
    "\n",
    "# Mostrar las primeras 5 imágenes junto con sus predicciones\n",
    "for i in range(5):\n",
    "    plt.imshow(x_test[i].reshape(28, 28), cmap='gray')\n",
    "    plt.title(f\"Predicción: {predictions[i].argmax()}\")\n",
    "    plt.axis('off')\n",
    "    plt.show()\n"
   ]
  }
 ],
 "metadata": {
  "kernelspec": {
   "display_name": "deep_learning",
   "language": "python",
   "name": "python3"
  },
  "language_info": {
   "codemirror_mode": {
    "name": "ipython",
    "version": 3
   },
   "file_extension": ".py",
   "mimetype": "text/x-python",
   "name": "python",
   "nbconvert_exporter": "python",
   "pygments_lexer": "ipython3",
   "version": "3.10.13"
  }
 },
 "nbformat": 4,
 "nbformat_minor": 2
}
